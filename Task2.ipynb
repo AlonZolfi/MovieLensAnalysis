{
 "cells": [
  {
   "cell_type": "code",
   "execution_count": 1,
   "metadata": {
    "collapsed": true
   },
   "outputs": [],
   "source": [
    "import pandas as pd\n",
    "import numpy as np\n",
    "import random \n",
    "from random import randint"
   ]
  },
  {
   "cell_type": "code",
   "execution_count": 2,
   "metadata": {},
   "outputs": [],
   "source": [
    "r_cols = [\"user_id\", \"movie_id\", \"rating\", \"unix_timestamp\"]\n",
    "ratings = pd.read_csv(\".\\\\ml-100k\\\\u1.base\", sep='\\t', names=r_cols, encoding='latin-1')\n",
    "m_cols = ['movie_id', 'title', 'release_date', 'video_release_date', 'imdb_url']\n",
    "movies = pd.read_csv(\".\\\\ml-100k\\\\u.item\", sep='|', names=m_cols, usecols=range(5),encoding='latin-1')\n",
    "u_cols = ['user_id', 'age', 'gender', 'occupation', 'zip_code']\n",
    "users = pd.read_csv('.\\\\ml-100k\\\\u.user', sep='|', names=u_cols, encoding='latin-1')\n",
    "movie_ratings = pd.merge(movies, ratings, on='movie_id', how='inner')\n",
    "movie_stats = movie_ratings.groupby('movie_id', as_index=False)['rating'].mean()\n",
    "ratings_sorted = movie_stats.sort_values('rating', ascending=False)\n",
    "movielens = pd.merge(movie_ratings, users, on='user_id')\n",
    "ratings_by_gender = movielens.pivot_table('rating',index=['movie_id'], columns='gender', aggfunc='mean')\n",
    "female_top_ratings = ratings_by_gender.sort_values('F', ascending=False)\n",
    "male_top_ratings = ratings_by_gender.sort_values('M', ascending=False)"
   ]
  },
  {
   "cell_type": "code",
   "execution_count": 4,
   "metadata": {},
   "outputs": [],
   "source": [
    "movie_stats0 = movie_ratings.groupby('movie_id', as_index=False)['rating'].mean()\n",
    "movie_stats1 = movie_ratings.groupby('movie_id', as_index=False)['rating'].count()\n",
    "movie_stats1.columns = ['movie_id','num_of_ratings']\n",
    "movie_pop = pd.merge(movie_stats0, movie_stats1, on='movie_id')\n",
    "movie_pop['popularity']=(movie_pop['rating']*movie_pop['num_of_ratings'])/(users.shape[0]*5)\n",
    "sorted_by_pop = movie_pop.sort_values('popularity', ascending=False)\n",
    "popularity_with_names = pd.merge(sorted_by_pop,movies,on='movie_id',how='inner')\n"
   ]
  },
  {
   "cell_type": "code",
   "execution_count": 5,
   "metadata": {},
   "outputs": [],
   "source": [
    "r_cols = [\"user_id\", \"movie_id\", \"rating\", \"unix_timestamp\"]\n",
    "ratings_test = pd.read_csv(\".\\\\ml-100k\\\\u1.test\", sep='\\t', names=r_cols, encoding='latin-1')\n",
    "movie_stats_test = ratings_test.groupby('movie_id', as_index=False)['rating'].mean()\n",
    "train_and_test_results = pd.merge(movie_stats_test, popularity_with_names, on='movie_id', how='inner')"
   ]
  },
  {
   "cell_type": "code",
   "execution_count": 6,
   "metadata": {},
   "outputs": [
    {
     "name": "stdout",
     "output_type": "stream",
     "text": [
      "MAE = 0.4740090531709019\n"
     ]
    }
   ],
   "source": [
    "MAE = np.sum(abs(train_and_test_results['rating_x']-train_and_test_results['rating_y']))/train_and_test_results.shape[0]\n",
    "print(\"MAE = \"+ str(MAE))"
   ]
  },
  {
   "cell_type": "code",
   "execution_count": 7,
   "metadata": {},
   "outputs": [],
   "source": [
    "movies_user_saw_train = (ratings.groupby('user_id')['movie_id'].apply(list)).to_dict()\n",
    "list_recommended_by_rank = ratings_sorted['movie_id'].tolist()\n",
    "recommend_by_rating = pd.DataFrame(columns=[\"user_id\",\"movie_id\"])\n",
    "recommend_by_random = pd.DataFrame(columns=[\"user_id\",\"movie_id\"])\n",
    "counter_by_rating = 0\n",
    "counter_by_random = 0\n",
    "for user in ratings_test['user_id'].unique():\n",
    "    num_of_mov_rec = 0\n",
    "    for r_movie in list_recommended_by_rank:\n",
    "        if not movies_user_saw_train[user].__contains__(r_movie):\n",
    "            recommend_by_rating.loc[counter_by_rating] = [user, r_movie]\n",
    "            counter_by_rating += 1\n",
    "            num_of_mov_rec += 1\n",
    "            if num_of_mov_rec == 20:\n",
    "                break\n",
    "    num_of_mov_random = 0\n",
    "    while num_of_mov_random != 20:\n",
    "        rand_movie = randint(1, movies.shape[0])\n",
    "        if not movies_user_saw_train[user].__contains__(rand_movie):\n",
    "            recommend_by_random.loc[counter_by_random] = [user, rand_movie]\n",
    "            counter_by_random += 1\n",
    "            num_of_mov_random += 1"
   ]
  },
  {
   "cell_type": "code",
   "execution_count": 8,
   "metadata": {},
   "outputs": [
    {
     "name": "stdout",
     "output_type": "stream",
     "text": [
      "Recall (by recommendation): 0.021\nRecall (by random): 0.013\nPrecision (by recommendation): 0.046\nPrecision (by random): 0.028\n"
     ]
    }
   ],
   "source": [
    "movies_user_saw_test = (ratings_test.groupby('user_id')['movie_id'].apply(list)).to_dict()\n",
    "movies_user_rec = (recommend_by_rating.groupby('user_id')['movie_id'].apply(list)).to_dict()\n",
    "movies_user_rand = (recommend_by_random.groupby('user_id')['movie_id'].apply(list)).to_dict()\n",
    "sum_common_rec = 0\n",
    "sum_common_rand = 0\n",
    "sum_movies_saw = 0\n",
    "for user in ratings_test['user_id'].unique():\n",
    "    sum_common_rec += len(set(movies_user_saw_test[user]) & set(movies_user_rec[user]))\n",
    "    sum_common_rand += len(set(movies_user_saw_test[user]) & set(movies_user_rand[user]))\n",
    "    sum_movies_saw += len((set(movies_user_saw_test[user])))\n",
    "recall_rec = sum_common_rec / sum_movies_saw\n",
    "recall_rand = sum_common_rand / sum_movies_saw\n",
    "num_of_rec = len(ratings_test['user_id'].unique())\n",
    "prec_rec = sum_common_rec / (num_of_rec*20)\n",
    "prec_rand = sum_common_rand / (num_of_rec*20)\n",
    "print(\"Recall (by recommendation): \" + str(round(recall_rec,3)))\n",
    "print(\"Recall (by random): \" + str(round(recall_rand,3)))\n",
    "print(\"Precision (by recommendation): \"+str(round(prec_rec,3)))\n",
    "print(\"Precision (by random): \"+str(round(prec_rand,3)))"
   ]
  },
  {
   "cell_type": "code",
   "execution_count": 9,
   "metadata": {},
   "outputs": [],
   "source": [
    "full_data_test = pd.merge(ratings_test, users, on='user_id')\n",
    "female_rows = full_data_test['gender'] == 'F'\n",
    "female_data = full_data_test[female_rows]\n",
    "female_ratings = pd.DataFrame(female_top_ratings.to_records())\n",
    "list_recommended_by_rank_female = female_ratings['movie_id'].tolist()\n",
    "recommend_by_rating_female = pd.DataFrame(columns=[\"user_id\",\"movie_id\"])\n",
    "recommend_by_random_female = pd.DataFrame(columns=[\"user_id\",\"movie_id\"])\n",
    "counter_by_rating_female = 0\n",
    "counter_by_random_female = 0\n",
    "for user in female_data['user_id'].unique():\n",
    "    num_of_mov_rec_female = 0\n",
    "    for r_movie in list_recommended_by_rank_female:\n",
    "        if not movies_user_saw_train[user].__contains__(r_movie):\n",
    "            recommend_by_rating_female.loc[counter_by_rating_female] = [user, r_movie]\n",
    "            counter_by_rating_female += 1\n",
    "            num_of_mov_rec_female += 1\n",
    "            if num_of_mov_rec_female == 20:\n",
    "                break\n",
    "    num_of_mov_random_female = 0\n",
    "    while num_of_mov_random_female != 20:\n",
    "        rand_movie = random.choice(list_recommended_by_rank_female)\n",
    "        if not movies_user_saw_train[user].__contains__(rand_movie):\n",
    "            recommend_by_random_female.loc[counter_by_random_female] = [user, rand_movie]\n",
    "            counter_by_random_female += 1\n",
    "            num_of_mov_random_female += 1"
   ]
  },
  {
   "cell_type": "code",
   "execution_count": 10,
   "metadata": {},
   "outputs": [
    {
     "name": "stdout",
     "output_type": "stream",
     "text": [
      "Recall (by recommendation) for females: 0.01\nRecall (by random) for females: 0.014\nPrecision (by recommendation) for females: 0.019\nPrecision (by random) for females: 0.026\n"
     ]
    }
   ],
   "source": [
    "movies_female_rec = (recommend_by_rating_female.groupby('user_id')['movie_id'].apply(list)).to_dict()\n",
    "movies_female_rand = (recommend_by_random_female.groupby('user_id')['movie_id'].apply(list)).to_dict()\n",
    "sum_common_rec_female = 0\n",
    "sum_common_rand_female = 0\n",
    "sum_movies_saw_female = 0\n",
    "for user in female_data['user_id'].unique():\n",
    "    sum_common_rec_female += len(set(movies_user_saw_test[user]) & set(movies_female_rec[user]))\n",
    "    sum_common_rand_female += len(set(movies_user_saw_test[user]) & set(movies_female_rand[user]))\n",
    "    sum_movies_saw_female += len((set(movies_user_saw_test[user])))\n",
    "recall_rec_female = sum_common_rec_female / sum_movies_saw_female\n",
    "recall_rand_female = sum_common_rand_female / sum_movies_saw_female\n",
    "num_of_rec_female = len(female_data['user_id'].unique())\n",
    "prec_rec_female = sum_common_rec_female / (num_of_rec_female*20)\n",
    "prec_rand_female = sum_common_rand_female / (num_of_rec_female*20)\n",
    "print(\"Recall (by recommendation) for females: \" + str(round(recall_rec_female,3)))\n",
    "print(\"Recall (by random) for females: \" + str(round(recall_rand_female,3)))\n",
    "print(\"Precision (by recommendation) for females: \"+str(round(prec_rec_female,3)))\n",
    "print(\"Precision (by random) for females: \"+str(round(prec_rand_female,3)))"
   ]
  },
  {
   "cell_type": "code",
   "execution_count": 11,
   "metadata": {},
   "outputs": [],
   "source": [
    "male_rows = full_data_test['gender'] == 'M'\n",
    "male_data = full_data_test[male_rows]\n",
    "male_ratings = pd.DataFrame(male_top_ratings.to_records())\n",
    "list_recommended_by_rank_male = male_ratings['movie_id'].tolist()\n",
    "recommend_by_rating_male = pd.DataFrame(columns=[\"user_id\", \"movie_id\"])\n",
    "recommend_by_random_male = pd.DataFrame(columns=[\"user_id\", \"movie_id\"])\n",
    "counter_by_rating_male = 0\n",
    "counter_by_random_male = 0\n",
    "for user in male_data['user_id'].unique():\n",
    "    num_of_mov_rec_male = 0\n",
    "    for r_movie in list_recommended_by_rank_male:\n",
    "        if not movies_user_saw_train[user].__contains__(r_movie):\n",
    "            recommend_by_rating_male.loc[counter_by_rating_male] = [user, r_movie]\n",
    "            counter_by_rating_male += 1\n",
    "            num_of_mov_rec_male += 1\n",
    "            if num_of_mov_rec_male == 20:\n",
    "                break\n",
    "    num_of_mov_random_male = 0\n",
    "    while num_of_mov_random_male != 20:\n",
    "        rand_movie = random.choice(list_recommended_by_rank_male)\n",
    "        if not movies_user_saw_train[user].__contains__(rand_movie):\n",
    "            recommend_by_random_male.loc[counter_by_random_male] = [user, rand_movie]\n",
    "            counter_by_random_male += 1\n",
    "            num_of_mov_random_male += 1"
   ]
  },
  {
   "cell_type": "code",
   "execution_count": 12,
   "metadata": {},
   "outputs": [
    {
     "name": "stdout",
     "output_type": "stream",
     "text": [
      "Recall (by recommendation) for males: 0.003\nRecall (by random) for males: 0.013\nPrecision (by recommendation) for males: 0.006\nPrecision (by random) for males: 0.03\n"
     ]
    }
   ],
   "source": [
    "movies_male_rec = (recommend_by_rating_male.groupby('user_id')['movie_id'].apply(list)).to_dict()\n",
    "movies_male_rand = (recommend_by_random_male.groupby('user_id')['movie_id'].apply(list)).to_dict()\n",
    "sum_common_rec_male = 0\n",
    "sum_common_rand_male = 0\n",
    "sum_movies_saw_male = 0\n",
    "for user in male_data['user_id'].unique():\n",
    "    sum_common_rec_male += len(set(movies_user_saw_test[user]) & set(movies_male_rec[user]))\n",
    "    sum_common_rand_male += len(set(movies_user_saw_test[user]) & set(movies_male_rand[user]))\n",
    "    sum_movies_saw_male += len((set(movies_user_saw_test[user])))\n",
    "recall_rec_male = sum_common_rec_male / sum_movies_saw_male\n",
    "recall_rand_male = sum_common_rand_male / sum_movies_saw_male\n",
    "num_of_rec_male = len(male_data['user_id'].unique())\n",
    "prec_rec_male = sum_common_rec_male / (num_of_rec_male*20)\n",
    "prec_rand_male = sum_common_rand_male / (num_of_rec_male*20)\n",
    "print(\"Recall (by recommendation) for males: \" + str(round(recall_rec_male,3)))\n",
    "print(\"Recall (by random) for males: \" + str(round(recall_rand_male,3)))\n",
    "print(\"Precision (by recommendation) for males: \"+str(round(prec_rec_male,3)))\n",
    "print(\"Precision (by random) for males: \"+str(round(prec_rand_male,3)))"
   ]
  }
 ],
 "metadata": {
  "kernelspec": {
   "display_name": "Python 2",
   "language": "python",
   "name": "python2"
  },
  "language_info": {
   "codemirror_mode": {
    "name": "ipython",
    "version": 2
   },
   "file_extension": ".py",
   "mimetype": "text/x-python",
   "name": "python",
   "nbconvert_exporter": "python",
   "pygments_lexer": "ipython2",
   "version": "2.7.6"
  }
 },
 "nbformat": 4,
 "nbformat_minor": 0
}
